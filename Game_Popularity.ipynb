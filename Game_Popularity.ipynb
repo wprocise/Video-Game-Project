{
 "cells": [
  {
   "cell_type": "code",
   "execution_count": 1,
   "id": "03318929",
   "metadata": {},
   "outputs": [
    {
     "name": "stdout",
     "output_type": "stream",
     "text": [
      "TWITCH_CLIENT_ID and TWITCH_CLIENT_SECRET environment variables set.\n"
     ]
    }
   ],
   "source": [
    "import os\n",
    "\n",
    "# IMPORTANT: Replace with your actual Twitch application credentials\n",
    "os.environ[\"TWITCH_CLIENT_ID\"] = \"pgapguj2m5e5mm637jg1sx952kjdzw\"\n",
    "os.environ[\"TWITCH_CLIENT_SECRET\"] = \"du7gazte4165jh8rn8w4pao37zpazi\"\n",
    "\n",
    "print(\"TWITCH_CLIENT_ID and TWITCH_CLIENT_SECRET environment variables set.\")"
   ]
  },
  {
   "cell_type": "code",
   "execution_count": 2,
   "id": "cd963a35",
   "metadata": {},
   "outputs": [
    {
     "name": "stdout",
     "output_type": "stream",
     "text": [
      "Loading data from: igdb_csv/games_20251015_1657.csv\n",
      "   id  aggregated_rating aggregated_rating_count first_release_date   genres  \\\n",
      "0   1          90.000000                     1.0          953596800  5|13|31   \n",
      "1   2          70.000000                     1.0          912384000    13|31   \n",
      "2   3          83.000000                     2.0         1085443200  5|13|31   \n",
      "3   4          63.642857                    14.0         1393286400     5|31   \n",
      "4   5                NaN                     NaN          914198400       12   \n",
      "\n",
      "                      name        platforms                    slug  \\\n",
      "0  Thief II: The Metal Age                6  thief-ii-the-metal-age   \n",
      "1  Thief: The Dark Project                6  thief-the-dark-project   \n",
      "2    Thief: Deadly Shadows             11|6    thief-deadly-shadows   \n",
      "3                    Thief  9|48|6|14|12|49                   thief   \n",
      "4            Baldur's Gate        3|6|39|14           baldur-s-gate   \n",
      "\n",
      "   total_rating  total_rating_count    updated_at  hypes  status  \n",
      "0     88.587651               144.0  1.760374e+09    NaN     NaN  \n",
      "1     78.316089               167.0  1.760398e+09    NaN     NaN  \n",
      "2     82.425558               127.0  1.760375e+09    NaN     NaN  \n",
      "3     66.771327               332.0  1.760151e+09   13.0     NaN  \n",
      "4     85.801826               326.0  1.760398e+09    NaN     NaN  \n"
     ]
    }
   ],
   "source": [
    "import pandas as pd\n",
    "import os\n",
    "from pathlib import Path\n",
    "\n",
    "# Find the latest games CSV file in the 'igdb_csv' directory\n",
    "outdir = Path(\"igdb_csv\")\n",
    "if outdir.exists():\n",
    "\ttry:\n",
    "\t\tlatest_games_file = sorted(outdir.glob(\"games_*.csv\"), reverse=True)[0]\n",
    "\t\tprint(f\"Loading data from: {latest_games_file}\")\n",
    "\t\tdf = pd.read_csv(latest_games_file)\n",
    "\t\tprint(df.head())  # show first 5 rows\n",
    "\texcept IndexError:\n",
    "\t\tprint(\"No games CSV file found in 'igdb_csv' directory.\")\n",
    "\t\tprint(\"Please run the data download cell first.\")\n",
    "else:\n",
    "\tprint(\"'igdb_csv' directory not found.\")\n",
    "\tprint(\"Please run the data download cell first to create it.\")"
   ]
  },
  {
   "cell_type": "code",
   "execution_count": 8,
   "id": "5ab840db",
   "metadata": {},
   "outputs": [],
   "source": [
    "import pandas as pd\n",
    "from pathlib import Path\n",
    "\n",
    "# Adjust timestamp to your generated CSVs\n",
    "ts = \"20251015_1600\"  # example timestamp used in file names\n",
    "outdir = Path(\"igdb_csv\")\n",
    "\n",
    "games = pd.read_csv(outdir / f\"games_20251001_1633.csv\")\n",
    "popularity_primitives = pd.read_csv(outdir / f\"popularity_primitives_20251015_1657.csv\")\n",
    "popularity_types = pd.read_csv(outdir / f\"popularity_types_20251001_1809.csv\")\n"
   ]
  },
  {
   "cell_type": "code",
   "execution_count": 9,
   "id": "7a77fe84",
   "metadata": {},
   "outputs": [],
   "source": [
    "popularity_joined = popularity_primitives.merge(\n",
    "    popularity_types,\n",
    "    left_on=\"popularity_type\",\n",
    "    right_on=\"id\",\n",
    "    how=\"left\"\n",
    ")\n"
   ]
  },
  {
   "cell_type": "code",
   "execution_count": 11,
   "id": "fa53f42e",
   "metadata": {},
   "outputs": [],
   "source": [
    "popularity_with_games = popularity_joined.merge(\n",
    "    games[[\"id\", \"name\", \"slug\"]],\n",
    "    left_on=\"game_id\",\n",
    "    right_on=\"id\",\n",
    "    how=\"left\",\n",
    ")"
   ]
  },
  {
   "cell_type": "code",
   "execution_count": 18,
   "id": "1c15bac3",
   "metadata": {},
   "outputs": [],
   "source": [
    "popularity_with_games = popularity_joined.merge(\n",
    "    games[[\"id\", \"name\", \"slug\"]],\n",
    "    left_on=\"game_id\",\n",
    "    right_on=\"id\",\n",
    "    how=\"left\",\n",
    "    suffixes=(\"_poptype\", \"_game\")\n",
    ")\n",
    "\n",
    "# Rename columns for clarity\n",
    "popularity_with_games = popularity_with_games.rename(columns={\n",
    "    \"name_game\": \"game_name\",\n",
    "    \"name_poptype\": \"popularity_name\"\n",
    "})\n"
   ]
  },
  {
   "cell_type": "code",
   "execution_count": null,
   "id": "0865eeef",
   "metadata": {},
   "outputs": [
    {
     "name": "stdout",
     "output_type": "stream",
     "text": [
      "game_name\n",
      "grand-theft-auto-v               0.003479\n",
      "cyberpunk-2077                   0.002967\n",
      "the-witcher-3-wild-hunt          0.002921\n",
      "142.0                            0.002338\n",
      "Minecraft: Java Edition          0.002044\n",
      "fortnite                         0.001801\n",
      "The Elder Scrolls V: Skyrim      0.001695\n",
      "Portal 2                         0.001652\n",
      "Grand Theft Auto: San Andreas    0.001547\n",
      "Portal                           0.001320\n",
      "Name: value, dtype: float64\n"
     ]
    }
   ],
   "source": [
    "top_games = (\n",
    "    popularity_with_games.groupby(\"game_name\")[\"value\"]\n",
    "    .mean()\n",
    "    .sort_values(ascending=False)\n",
    "    .head(10)\n",
    ")\n",
    "print(top_games)\n"
   ]
  },
  {
   "cell_type": "code",
   "execution_count": 12,
   "id": "7fac3842",
   "metadata": {},
   "outputs": [
    {
     "name": "stdout",
     "output_type": "stream",
     "text": [
      "✅ Saved merged popularity dataset.\n"
     ]
    }
   ],
   "source": [
    "popularity_with_games.to_csv(\"igdb_popularity_by_game.csv\", index=False)\n",
    "print(\"✅ Saved merged popularity dataset.\")\n"
   ]
  },
  {
   "cell_type": "code",
   "execution_count": 22,
   "id": "310cb2ae",
   "metadata": {},
   "outputs": [
    {
     "name": "stdout",
     "output_type": "stream",
     "text": [
      "game_name\n",
      "grand-theft-auto-v               0.003479\n",
      "cyberpunk-2077                   0.002967\n",
      "the-witcher-3-wild-hunt          0.002921\n",
      "142.0                            0.002338\n",
      "Minecraft: Java Edition          0.002044\n",
      "fortnite                         0.001801\n",
      "The Elder Scrolls V: Skyrim      0.001695\n",
      "Portal 2                         0.001652\n",
      "Grand Theft Auto: San Andreas    0.001547\n",
      "Portal                           0.001320\n",
      "Name: value, dtype: float64\n"
     ]
    }
   ],
   "source": [
    "top_games = (\n",
    "    popularity_with_games.groupby(\"game_name\")[\"value\"]\n",
    "    .mean()\n",
    "    .sort_values(ascending=False)\n",
    "    .head(10)\n",
    ")\n",
    "print(top_games)"
   ]
  },
  {
   "cell_type": "code",
   "execution_count": 25,
   "id": "ea9144fe",
   "metadata": {},
   "outputs": [
    {
     "name": "stdout",
     "output_type": "stream",
     "text": [
      "                          game_name     value\n",
      "5049             grand-theft-auto-v  0.003479\n",
      "4235                 cyberpunk-2077  0.002967\n",
      "7492        the-witcher-3-wild-hunt  0.002921\n",
      "24                            142.0  0.002338\n",
      "1861        Minecraft: Java Edition  0.002044\n",
      "4864                       fortnite  0.001801\n",
      "2892    The Elder Scrolls V: Skyrim  0.001695\n",
      "2190                       Portal 2  0.001652\n",
      "1311  Grand Theft Auto: San Andreas  0.001547\n",
      "2189                         Portal  0.001320\n"
     ]
    }
   ],
   "source": [
    "top_games_df = (\n",
    "    popularity_with_games\n",
    "    .groupby(\"game_name\", as_index=False)[\"value\"]\n",
    "    .mean()\n",
    "    .sort_values(\"value\", ascending=False)\n",
    "    .head(10)\n",
    ")\n",
    "print(top_games_df)\n"
   ]
  },
  {
   "cell_type": "code",
   "execution_count": 27,
   "id": "367090d2",
   "metadata": {},
   "outputs": [
    {
     "data": {
      "image/png": "[encoded data removed]",
      "text/plain": [
       "<Figure size 1000x600 with 1 Axes>"
      ]
     },
     "metadata": {},
     "output_type": "display_data"
    }
   ],
   "source": [
    "# What are the most popular games by popularity value?\n",
    "import matplotlib.pyplot as plt\n",
    "\n",
    "plt.figure(figsize=(10,6))\n",
    "plt.barh(top_games_df[\"game_name\"], top_games_df[\"value\"])\n",
    "plt.gca().invert_yaxis()\n",
    "plt.title(\"Top 10 Games by Average Popularity Value\")\n",
    "plt.xlabel(\"Popularity Value\")\n",
    "plt.show()\n"
   ]
  }
 ],
 "metadata": {
  "kernelspec": {
   "display_name": "base",
   "language": "python",
   "name": "python3"
  },
  "language_info": {
   "codemirror_mode": {
    "name": "ipython",
    "version": 3
   },
   "file_extension": ".py",
   "mimetype": "text/x-python",
   "name": "python",
   "nbconvert_exporter": "python",
   "pygments_lexer": "ipython3",
   "version": "3.13.5"
  }
 },
 "nbformat": 4,
 "nbformat_minor": 5
}
