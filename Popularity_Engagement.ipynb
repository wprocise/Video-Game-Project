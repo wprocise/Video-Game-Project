{
 "cells": [
  {
   "cell_type": "code",
   "execution_count": 1,
   "id": "a82a5f5d",
   "metadata": {},
   "outputs": [
    {
     "name": "stdout",
     "output_type": "stream",
     "text": [
      "TWITCH_CLIENT_ID and TWITCH_CLIENT_SECRET environment variables set.\n"
     ]
    }
   ],
   "source": [
    "import os\n",
    "\n",
    "# IMPORTANT: Replace with your actual Twitch application credentials\n",
    "os.environ[\"TWITCH_CLIENT_ID\"] = \"pgapguj2m5e5mm637jg1sx952kjdzw\"\n",
    "os.environ[\"TWITCH_CLIENT_SECRET\"] = \"du7gazte4165jh8rn8w4pao37zpazi\"\n",
    "\n",
    "print(\"TWITCH_CLIENT_ID and TWITCH_CLIENT_SECRET environment variables set.\")"
   ]
  },
  {
   "cell_type": "code",
   "execution_count": 2,
   "id": "57d86cb3",
   "metadata": {},
   "outputs": [
    {
     "name": "stdout",
     "output_type": "stream",
     "text": [
      "Loading data from: igdb_csv/games_20251015_1657.csv\n",
      "   id  aggregated_rating aggregated_rating_count first_release_date   genres  \\\n",
      "0   1          90.000000                     1.0          953596800  5|13|31   \n",
      "1   2          70.000000                     1.0          912384000    13|31   \n",
      "2   3          83.000000                     2.0         1085443200  5|13|31   \n",
      "3   4          63.642857                    14.0         1393286400     5|31   \n",
      "4   5                NaN                     NaN          914198400       12   \n",
      "\n",
      "                      name        platforms                    slug  \\\n",
      "0  Thief II: The Metal Age                6  thief-ii-the-metal-age   \n",
      "1  Thief: The Dark Project                6  thief-the-dark-project   \n",
      "2    Thief: Deadly Shadows             11|6    thief-deadly-shadows   \n",
      "3                    Thief  9|48|6|14|12|49                   thief   \n",
      "4            Baldur's Gate        3|6|39|14           baldur-s-gate   \n",
      "\n",
      "   total_rating  total_rating_count    updated_at  hypes  status  \n",
      "0     88.587651               144.0  1.760374e+09    NaN     NaN  \n",
      "1     78.316089               167.0  1.760398e+09    NaN     NaN  \n",
      "2     82.425558               127.0  1.760375e+09    NaN     NaN  \n",
      "3     66.771327               332.0  1.760151e+09   13.0     NaN  \n",
      "4     85.801826               326.0  1.760398e+09    NaN     NaN  \n"
     ]
    }
   ],
   "source": [
    "import pandas as pd\n",
    "import os\n",
    "from pathlib import Path\n",
    "\n",
    "# Find the latest games CSV file in the 'igdb_csv' directory\n",
    "outdir = Path(\"igdb_csv\")\n",
    "if outdir.exists():\n",
    "\ttry:\n",
    "\t\tlatest_games_file = sorted(outdir.glob(\"games_*.csv\"), reverse=True)[0]\n",
    "\t\tprint(f\"Loading data from: {latest_games_file}\")\n",
    "\t\tdf = pd.read_csv(latest_games_file)\n",
    "\t\tprint(df.head())  # show first 5 rows\n",
    "\texcept IndexError:\n",
    "\t\tprint(\"No games CSV file found in 'igdb_csv' directory.\")\n",
    "\t\tprint(\"Please run the data download cell first.\")\n",
    "else:\n",
    "\tprint(\"'igdb_csv' directory not found.\")\n",
    "\tprint(\"Please run the data download cell first to create it.\")"
   ]
  },
  {
   "cell_type": "code",
   "execution_count": 5,
   "id": "b2d8ba8a",
   "metadata": {},
   "outputs": [],
   "source": [
    "import pandas as pd\n",
    "from pathlib import Path\n",
    "import numpy as np\n",
    "\n",
    "# Adjust timestamp to your generated CSVs\n",
    "ts = \"20251015_1600\"  \n",
    "outdir = Path(\"igdb_csv\")\n",
    "\n",
    "games = pd.read_csv(outdir / f\"games_20251001_1633.csv\")\n",
    "popularity_primitives = pd.read_csv(outdir / f\"popularity_primitives_20251015_1657.csv\")\n",
    "popularity_types = pd.read_csv(outdir / f\"popularity_types_20251001_1809.csv\")\n",
    "\n",
    "# Adding game_time_to_beats to explore top games based on playtime weighted popularity score\n",
    "game_time_to_beats = pd.read_csv(outdir / f\"game_time_to_beats_20251015_1657.csv\")"
   ]
  },
  {
   "cell_type": "code",
   "execution_count": 6,
   "id": "1efe62d7",
   "metadata": {},
   "outputs": [],
   "source": [
    "# Exploratory Idea #2: Analyze top 10 video games based on playtime weighted popularity score\n",
    "# What are the most popular video games based on player engagement; Looking into how long people play specific video games for"
   ]
  },
  {
   "cell_type": "code",
   "execution_count": 10,
   "id": "dabeb409",
   "metadata": {},
   "outputs": [],
   "source": [
    "# STEP 1: Load merged popularity and game info from 'Game_Popularity' notebook\n",
    "# Unnecessary to merge and clean columns again from same csv file merge\n",
    "\n",
    "popularity_with_games = pd.read_csv(\"igdb_popularity_by_game.csv\")"
   ]
  },
  {
   "cell_type": "code",
   "execution_count": 13,
   "id": "6dce3f67",
   "metadata": {},
   "outputs": [],
   "source": [
    "# STEP 2: Merge 'popularity_with_games' with playtime data\n",
    "# Merge on game_id (linking time-to-beat and popularity)\n",
    "playtime_popularity = popularity_with_games.merge(\n",
    "    game_time_to_beats[[\"game_id\", \"normally\", \"hastily\", \"completely\"]],\n",
    "    on=\"game_id\",\n",
    "    how=\"left\"\n",
    ")"
   ]
  },
  {
   "cell_type": "code",
   "execution_count": null,
   "id": "11d811cd",
   "metadata": {},
   "outputs": [],
   "source": [
    "\n",
    "# --- 4️⃣ Compute average playtime ---\n",
    "playtime_popularity[\"avg_playtime\"] = playtime_popularity[\n",
    "    [\"normally\", \"hastily\", \"completely\"]\n",
    "].mean(axis=1, skipna=True)\n",
    "\n",
    "# --- 5️⃣ Compute playtime-based popularity score ---\n",
    "# Combine popularity value with engagement\n",
    "playtime_popularity[\"playtime_popularity\"] = (\n",
    "    playtime_popularity[\"value\"] * np.log1p(playtime_popularity[\"avg_playtime\"])\n",
    ")\n",
    "\n",
    "# --- 6️⃣ Aggregate by game ---\n",
    "game_popularity_summary = (\n",
    "    playtime_popularity\n",
    "    .groupby(\"game_name\", as_index=False)\n",
    "    .agg({\n",
    "        \"value\": \"mean\",\n",
    "        \"avg_playtime\": \"mean\",\n",
    "        \"playtime_popularity\": \"mean\"\n",
    "    })\n",
    "    .sort_values(\"playtime_popularity\", ascending=False)\n",
    "    .head(10)\n",
    ")"
   ]
  }
 ],
 "metadata": {
  "kernelspec": {
   "display_name": "myenv",
   "language": "python",
   "name": "python3"
  },
  "language_info": {
   "codemirror_mode": {
    "name": "ipython",
    "version": 3
   },
   "file_extension": ".py",
   "mimetype": "text/x-python",
   "name": "python",
   "nbconvert_exporter": "python",
   "pygments_lexer": "ipython3",
   "version": "3.11.13"
  }
 },
 "nbformat": 4,
 "nbformat_minor": 5
}
